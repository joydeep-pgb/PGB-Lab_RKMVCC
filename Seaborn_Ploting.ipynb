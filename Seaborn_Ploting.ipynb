{
 "cells": [
  {
   "cell_type": "code",
   "execution_count": null,
   "id": "739d4f98",
   "metadata": {},
   "outputs": [],
   "source": [
    "import pandas as pd\n",
    "import seaborn as sns\n",
    "import matplotlib.pyplot as plt"
   ]
  },
  {
   "cell_type": "code",
   "execution_count": null,
   "id": "f9d1d403",
   "metadata": {},
   "outputs": [],
   "source": [
    "# Create the dataframe\n",
    "data = {\n",
    "    \"TFs\": [\"Trihelix\"],\n",
    "    \"DF\": [-2.35],\n",
    "    \"UF\": [-2.25],\n",
    "    \"RF\": [-1.43]\n",
    "}\n",
    "df = pd.DataFrame(data)\n",
    "\n",
    "# Melt into long format for seaborn\n",
    "df_melted = df.melt(id_vars=\"TFs\", var_name=\"Stage\", value_name=\"Value\")\n",
    "\n",
    "print(df_melted)"
   ]
  },
  {
   "cell_type": "code",
   "execution_count": null,
   "id": "3d5efad9",
   "metadata": {},
   "outputs": [],
   "source": [
    "# Plot\n",
    "plt.figure(figsize=(6, 5))\n",
    "plt.rcParams['font.family'] = 'Arial'\n",
    "custom_params = {\"axes.spines.right\": False, \"axes.spines.top\": False}\n",
    "sns.set_theme(style=\"ticks\", rc=custom_params)\n",
    "sns.barplot(data=df_melted, x=\"Stage\", y=\"Value\", hue=\"Stage\", legend=False,\n",
    "            palette=[\"skyblue\", \"lightgreen\", \"salmon\"], edgecolor=\"black\")\n",
    "\n",
    "\n",
    "# Fix y-axis limits\n",
    "plt.ylim(-3, 3)\n",
    "plt.ylabel(\"\")\n",
    "plt.xlabel(\"\")\n",
    "plt.title(\"\")\n",
    "plt.legend(title=\"\")\n",
    "plt.rcParams['pdf.fonttype'] = 42  # Important for editable text in Illustrator\n",
    "ax = plt.gca()  # get current axis\n",
    "ax.spines[\"bottom\"].set_color(\"#5d637f\")\n",
    "ax.spines[\"left\"].set_color(\"#5d637f\")\n",
    "ax.spines[\"bottom\"].set_linewidth(2)\n",
    "ax.spines[\"left\"].set_linewidth(2)\n",
    "plt.tight_layout()\n",
    "plt.tick_params(axis='x', labelsize=18, color='#5d637f', length=6, width=2)\n",
    "plt.tick_params(axis='y', labelsize=18, color='#5d637f', length=6, width=2)\n",
    "# Save as PDF\n",
    "plt.savefig(\"Trihelix_expression.pdf\", format=\"pdf\", bbox_inches='tight')\n",
    "plt.show()"
   ]
  },
  {
   "cell_type": "code",
   "execution_count": null,
   "id": "8accceb2",
   "metadata": {},
   "outputs": [],
   "source": []
  }
 ],
 "metadata": {
  "kernelspec": {
   "display_name": "base",
   "language": "python",
   "name": "python3"
  },
  "language_info": {
   "codemirror_mode": {
    "name": "ipython",
    "version": 3
   },
   "file_extension": ".py",
   "mimetype": "text/x-python",
   "name": "python",
   "nbconvert_exporter": "python",
   "pygments_lexer": "ipython3",
   "version": "3.10.14"
  }
 },
 "nbformat": 4,
 "nbformat_minor": 5
}
