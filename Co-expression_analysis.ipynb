{
 "cells": [
  {
   "cell_type": "code",
   "execution_count": null,
   "id": "c9d702bc",
   "metadata": {},
   "outputs": [],
   "source": [
    "import os\n",
    "os.getcwd()"
   ]
  },
  {
   "cell_type": "code",
   "execution_count": null,
   "id": "3fc43860",
   "metadata": {},
   "outputs": [],
   "source": [
    "os.chdir(\"G:\\\\ABC Transporters\\\\ABC FINAL DATA\\\\Co-exprision networks\")  # Use your path\n",
    "print(os.getcwd())"
   ]
  },
  {
   "cell_type": "code",
   "execution_count": null,
   "id": "30232737",
   "metadata": {},
   "outputs": [],
   "source": [
    "import pandas as pd\n",
    "\n",
    "# Load expression data (genes as rows, samples as columns)\n",
    "# Example: rows=genes, columns=samples\n",
    "expr = pd.read_csv(\"PvulABC_exp.txt\", sep='\\t', index_col=0)\n",
    "\n",
    "print(expr.shape)  # e.g., (5000 genes, 20 samples)\n"
   ]
  },
  {
   "cell_type": "code",
   "execution_count": null,
   "id": "b5b01081",
   "metadata": {},
   "outputs": [],
   "source": [
    "# Compute Pearson correlation between genes\n",
    "cor_matrix = expr.T.corr(method=\"pearson\")\n",
    "print(cor_matrix.shape)  # e.g., (5000 genes, 5000 genes)\n",
    "print(cor_matrix.head(20))"
   ]
  },
  {
   "cell_type": "code",
   "execution_count": null,
   "id": "eb90187e",
   "metadata": {},
   "outputs": [],
   "source": [
    "import numpy as np\n",
    "\n",
    "# Flatten upper triangle into edge list\n",
    "edges = []\n",
    "genes = cor_matrix.columns\n",
    "\n",
    "for i in range(len(genes)):\n",
    "    for j in range(i+1, len(genes)):  # upper triangle only\n",
    "        corr_val = cor_matrix.iloc[i, j]\n",
    "        if abs(corr_val) >= 0.8:  # filter threshold\n",
    "            edges.append([genes[i], genes[j], corr_val])\n",
    "\n",
    "edge_list = pd.DataFrame(edges, columns=[\"Gene1\", \"Gene2\", \"Correlation\"])\n",
    "print(edge_list.head(20))"
   ]
  },
  {
   "cell_type": "code",
   "execution_count": null,
   "id": "b2350a43",
   "metadata": {},
   "outputs": [],
   "source": [
    "edge_list.to_csv(\"cytoscape_edges.txt\", sep=\"\\t\", index=False)"
   ]
  }
 ],
 "metadata": {
  "kernelspec": {
   "display_name": "base",
   "language": "python",
   "name": "python3"
  },
  "language_info": {
   "codemirror_mode": {
    "name": "ipython",
    "version": 3
   },
   "file_extension": ".py",
   "mimetype": "text/x-python",
   "name": "python",
   "nbconvert_exporter": "python",
   "pygments_lexer": "ipython3",
   "version": "3.10.14"
  }
 },
 "nbformat": 4,
 "nbformat_minor": 5
}
